{
 "cells": [
  {
   "cell_type": "code",
   "execution_count": 1,
   "id": "554b29ce",
   "metadata": {},
   "outputs": [],
   "source": [
    "import capnp"
   ]
  },
  {
   "cell_type": "code",
   "execution_count": 2,
   "id": "140e0250",
   "metadata": {},
   "outputs": [],
   "source": [
    "# import your protocols here\n",
    "protocol = capnp.load(\"protocols/config.capnp\")"
   ]
  },
  {
   "cell_type": "code",
   "execution_count": 7,
   "id": "454fca7c",
   "metadata": {},
   "outputs": [],
   "source": [
    "client_addr = \"localhost:6000\"\n",
    "client = capnp.TwoPartyClient(client_addr)"
   ]
  },
  {
   "cell_type": "code",
   "execution_count": 9,
   "id": "6d373c92",
   "metadata": {},
   "outputs": [],
   "source": [
    "factory = client.bootstrap().cast_as(protocol.ConfigFactory)"
   ]
  },
  {
   "cell_type": "code",
   "execution_count": 12,
   "id": "56714039",
   "metadata": {},
   "outputs": [],
   "source": [
    "request = factory.create(\"Hello\").wait()"
   ]
  },
  {
   "cell_type": "code",
   "execution_count": null,
   "id": "b3948c1e",
   "metadata": {},
   "outputs": [],
   "source": []
  }
 ],
 "metadata": {
  "kernelspec": {
   "display_name": "Python 3 (ipykernel)",
   "language": "python",
   "name": "python3"
  },
  "language_info": {
   "codemirror_mode": {
    "name": "ipython",
    "version": 3
   },
   "file_extension": ".py",
   "mimetype": "text/x-python",
   "name": "python",
   "nbconvert_exporter": "python",
   "pygments_lexer": "ipython3",
   "version": "3.9.12"
  }
 },
 "nbformat": 4,
 "nbformat_minor": 5
}
